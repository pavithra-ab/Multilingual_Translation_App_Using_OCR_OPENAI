{
 "cells": [
  {
   "cell_type": "markdown",
   "metadata": {},
   "source": [
    "Language Translation Using Tesseract and Open AI"
   ]
  },
  {
   "cell_type": "code",
   "execution_count": 26,
   "metadata": {},
   "outputs": [],
   "source": [
    "#import the necessary libraries\n",
    "import cv2\n",
    "import pytesseract\n",
    "import openai\n",
    "import tkinter as tk #GUI library\n",
    "import os\n",
    "import shutil\n",
    "from langdetect import detect\n",
    "from gtts import gTTS\n",
    "from PIL import Image, ImageTk"
   ]
  },
  {
   "cell_type": "code",
   "execution_count": 27,
   "metadata": {},
   "outputs": [],
   "source": [
    "#constant.py file has my Open AI API Key\n",
    "import constant"
   ]
  },
  {
   "cell_type": "code",
   "execution_count": 28,
   "metadata": {},
   "outputs": [],
   "source": [
    "#Creating a folder named temp\n",
    "\n",
    "folder_name = 'temp'\n",
    "\n",
    "if not os.path.exists(folder_name):\n",
    "    os.makedirs(folder_name)\n",
    "else:\n",
    "    shutil.rmtree(folder_name)\n",
    "    os.makedirs(folder_name)"
   ]
  },
  {
   "cell_type": "code",
   "execution_count": 29,
   "metadata": {},
   "outputs": [],
   "source": [
    "original_image = 'sample_text/text-malayalam.png'"
   ]
  },
  {
   "cell_type": "code",
   "execution_count": 30,
   "metadata": {},
   "outputs": [
    {
     "data": {
      "text/plain": [
       "True"
      ]
     },
     "execution_count": 30,
     "metadata": {},
     "output_type": "execute_result"
    }
   ],
   "source": [
    "#Load the image\n",
    "image = cv2.imread(original_image)\n",
    "\n",
    "#Resize the image\n",
    "width = 350 \n",
    "height = 250\n",
    "\n",
    "dim = (width,height) #dim tuple holds width and height values\n",
    "\n",
    "resized_img = cv2.resize(image, dim, interpolation= cv2.INTER_AREA)\n",
    "\n",
    "\n",
    "#save the resized image\n",
    "\n",
    "cv2.imwrite('temp\\img-resized.jpg', resized_img)\n"
   ]
  },
  {
   "cell_type": "code",
   "execution_count": 31,
   "metadata": {},
   "outputs": [
    {
     "data": {
      "text/plain": [
       "True"
      ]
     },
     "execution_count": 31,
     "metadata": {},
     "output_type": "execute_result"
    }
   ],
   "source": [
    "#Convert image to grayscale\n",
    "gray = cv2.cvtColor(image, cv2.COLOR_BGR2GRAY)\n",
    "\n",
    "#Image thresholding and contour detection\n",
    "thresh = cv2.threshold(gray, 0, 255, cv2.THRESH_BINARY + cv2.THRESH_OTSU)[1] #thresh holds the binary img\n",
    "\n",
    "#Find contours in a binary image\n",
    "contours,hierarchy = cv2.findContours(thresh, cv2.RETR_TREE, cv2.CHAIN_APPROX_SIMPLE)\n",
    "\n",
    "for contour in contours:\n",
    "    x,y,w,h = cv2.boundingRect(contour)\n",
    "    cv2.rectangle(image, (x,y), (x+w,y+h), (0,255,0), 2)\n",
    "\n",
    "cv2.imwrite('temp/contour.jpg', image)\n"
   ]
  },
  {
   "cell_type": "code",
   "execution_count": 32,
   "metadata": {},
   "outputs": [],
   "source": [
    "#configuring tesseract for multilingual language processing\n",
    "\n",
    "config = \"-l eng+deu+kor+rus+chi_sim+hin+mal\""
   ]
  },
  {
   "cell_type": "code",
   "execution_count": 33,
   "metadata": {},
   "outputs": [],
   "source": [
    "pytesseract.pytesseract.tesseract_cmd = r'C:\\Program Files\\Tesseract-OCR\\tesseract.exe'\n"
   ]
  },
  {
   "cell_type": "code",
   "execution_count": 34,
   "metadata": {},
   "outputs": [
    {
     "data": {
      "text/plain": [
       "'ഇന്ത്യനു ഭരണവടന\\nആമുഖം\\n\\nന൯മ്മശ, ഇന്ത്യയിലെ ജനങ്ങള്\\u200d, ഇന്ത്യയെ ഒരു\\nപരമാധികാര, സ്ഥിരിസമത്യ, മതന്ദിരപേക്ഷ, ജനാധിപത്യ\\nറികങഞ്ലിക്കായി സംവിധാനം ചെയ്യുന്നതിനും ഭാരതത്തിലെ\\nഎല്ലാ പയരര്\\u200dക്കും സാമൂഹികവും സാവ്പത്തികവും\\nരാഷ്ട്രീയവുമായ നീതി, ചിന്ത, ആശയാവിഷ്\\u200cകാരം, വിശ്വാസം,\\nഭക്തി, ആരാധന എന്നവ ള്ള സ്വാത,\\nസ്ഥാനമാനങ്ങള്\\u200d, അവസരങ്ങൾ എന്നിവയിലുള്ള സമത്വം\\nഎന്നിവ ഉറഭ്യവരുത്തുന്നുതിരും വൃക്തിയുടെ അന്തസ്സും\\nരാഷ്ട്രത്തിന്റെ ഐക്യവും അഖണ്ഡതയും ഉറയ്യവരുത്തുണ്ന\\nസാഹോരര്യം എല്ലാവരിലും വളരത്തുന്നുതിനും ദുഡടനിശ്ചയം\\nചെയ്തു കൊണ്ട്\\u200c നമ്മുടെ ഭരണഘടനാസഭയില്\\u200dവച്ച്\\u200c, 1949\\nനവംബറിന്റെ ഈ ഇരുപത്തിയാഠാം ദിവസം, ഈ\\nഭരണഘടനയെ അംഗീകരിക്കുകയും നിയമമാക്കുകയും\\nനമുക്കായിത്തന്നെ സമര്\\u200dഭിക്കുകയും ചെയ്യുന്നു.\\n'"
      ]
     },
     "execution_count": 34,
     "metadata": {},
     "output_type": "execute_result"
    }
   ],
   "source": [
    "#Extracting text from image\n",
    "text = pytesseract.image_to_string(thresh, config=config)\n",
    "text"
   ]
  },
  {
   "cell_type": "code",
   "execution_count": 35,
   "metadata": {},
   "outputs": [],
   "source": [
    "# Function to detect the language of the given text\n",
    "def detect_language(text):\n",
    "    return detect(text)"
   ]
  },
  {
   "cell_type": "code",
   "execution_count": 36,
   "metadata": {},
   "outputs": [
    {
     "data": {
      "text/plain": [
       "'ml'"
      ]
     },
     "execution_count": 36,
     "metadata": {},
     "output_type": "execute_result"
    }
   ],
   "source": [
    "lan = detect_language(text)\n",
    "lan"
   ]
  },
  {
   "cell_type": "code",
   "execution_count": 37,
   "metadata": {},
   "outputs": [
    {
     "data": {
      "text/plain": [
       "0"
      ]
     },
     "execution_count": 37,
     "metadata": {},
     "output_type": "execute_result"
    }
   ],
   "source": [
    "#Speech to text\n",
    "tts = gTTS(text=text, lang=lan)\n",
    "tts.save(\"output.mp3\")\n",
    "os.system(\"start output.mp3\")"
   ]
  },
  {
   "cell_type": "markdown",
   "metadata": {},
   "source": [
    "Translation Using OpenAI"
   ]
  },
  {
   "cell_type": "code",
   "execution_count": 38,
   "metadata": {},
   "outputs": [],
   "source": [
    "#Set the Open API Key\n",
    "openai.api_key = constant.api_key\n",
    "#Now you can use the openai library to make API requests"
   ]
  },
  {
   "cell_type": "code",
   "execution_count": 39,
   "metadata": {},
   "outputs": [],
   "source": [
    "#Function to translate text using Openai API\n",
    "\n",
    "def translate_text(text, target_language):\n",
    "    model_engine = \"text-davinci-003\"\n",
    "    response = openai.Completion.create(\n",
    "        engine=model_engine,\n",
    "        prompt=f\"translate '{text}' to {target_language}\",\n",
    "        max_tokens=1024,\n",
    "        n=1,\n",
    "        stop=None,\n",
    "        temperature=0.5,\n",
    "    )\n",
    "    \n",
    "    translated_text = response[\"choices\"][0][\"text\"].strip()\n",
    "    #print(response)\n",
    "    return translated_text\n",
    "\n",
    "\n"
   ]
  },
  {
   "cell_type": "code",
   "execution_count": 40,
   "metadata": {},
   "outputs": [],
   "source": [
    "input_text = text\n",
    "target_language = input(\"Enter your target language:\")"
   ]
  },
  {
   "cell_type": "code",
   "execution_count": 41,
   "metadata": {},
   "outputs": [
    {
     "data": {
      "text/plain": [
       "'Preamble\\n\\nWe, the people of India, having solemnly resolved to constitute India into a Sovereign, Socialist, Secular, Democratic Republic and to secure to all its citizens: Justice, social, economic and political; Liberty of thought, expression, belief, faith and worship; Equality of status and of opportunity; and to promote among them all Fraternity assuring the dignity of the individual and the unity and integrity of the Nation; In our Constituent Assembly this twenty-sixth day of November, 1949, do hereby adopt, enact and give to ourselves this Constitution.'"
      ]
     },
     "execution_count": 41,
     "metadata": {},
     "output_type": "execute_result"
    }
   ],
   "source": [
    "translation = translate_text(input_text, target_language)\n",
    "translation"
   ]
  },
  {
   "cell_type": "code",
   "execution_count": 42,
   "metadata": {},
   "outputs": [
    {
     "data": {
      "text/plain": [
       "'en'"
      ]
     },
     "execution_count": 42,
     "metadata": {},
     "output_type": "execute_result"
    }
   ],
   "source": [
    "lan = detect_language(translation)\n",
    "lan"
   ]
  },
  {
   "cell_type": "code",
   "execution_count": 43,
   "metadata": {},
   "outputs": [
    {
     "data": {
      "text/plain": [
       "0"
      ]
     },
     "execution_count": 43,
     "metadata": {},
     "output_type": "execute_result"
    }
   ],
   "source": [
    "\n",
    "#Speech to text\n",
    "tts = gTTS(text=translation, lang=lan)\n",
    "tts.save(\"output1.mp3\")\n",
    "os.system(\"start output1.mp3\")\n"
   ]
  },
  {
   "cell_type": "markdown",
   "metadata": {},
   "source": [
    "Creating Tkinter Application"
   ]
  },
  {
   "cell_type": "code",
   "execution_count": 44,
   "metadata": {},
   "outputs": [],
   "source": [
    "#create the root window\n",
    "root = tk.Tk()\n",
    "\n",
    "#prepare images for display\n",
    "img_input = Image.open('temp\\img-resized.jpg')\n",
    "\n",
    "img_1 = ImageTk.PhotoImage(img_input)\n",
    "\n",
    "contour = cv2.imread('temp\\contour.jpg')\n",
    "\n",
    "resized_contour = cv2.resize(contour, dim, interpolation = cv2.INTER_AREA)\n",
    "\n",
    "cv2.imwrite('temp\\contour-resized.jpg', resized_contour)\n",
    "\n",
    "img_contour = Image.open('temp\\contour-resized.jpg')\n",
    "\n",
    "img_2 = ImageTk.PhotoImage(img_contour)\n",
    "\n",
    "\n",
    "\n",
    "# GUI\n",
    "\n",
    "root.title(\"Language Translation\")\n",
    "\n",
    "\n",
    "image_origin = tk.Label(root, image=img_1)\n",
    "\n",
    "image_origin.grid(row=0, column=0) #use the grid geometry manager to place the image labels in the specified rows and columns on the GUI\n",
    "\n",
    "image_segmen = tk.Label(root, image=img_2)\n",
    "\n",
    "\n",
    "image_segmen.grid(row=0, column=1)\n",
    "\n",
    "\n",
    "label_text_detected = tk.Label(root, text=\"Detected Text : \\n\" + text)\n",
    "\n",
    "label_text_detected.grid(row=1, column=0)\n",
    "\n",
    "\n",
    "#control the appearance of the translated text\n",
    "font_size = 10\n",
    "window_width = 800\n",
    "\n",
    "\n",
    "characters_per_line = window_width // font_size\n",
    "\n",
    "text_lines = [translation[i:i+characters_per_line] for i in range(0, len(translation), characters_per_line)]\n",
    "\n",
    "\n",
    "label_text_translate = tk.Label(root, text=\"Translated Text : \\n\" + \"\\n\".join(text_lines), font=(\"Helvetica\", font_size))\n",
    "label_text_translate.grid(row=1, column=1)\n",
    "\n",
    "# Run GUI\n",
    "root.mainloop()"
   ]
  },
  {
   "cell_type": "markdown",
   "metadata": {},
   "source": [
    "PDF Translation"
   ]
  },
  {
   "cell_type": "code",
   "execution_count": 45,
   "metadata": {},
   "outputs": [],
   "source": [
    "import platform\n",
    "from tempfile import TemporaryDirectory\n",
    "from pathlib import Path\n",
    "from pdf2image import convert_from_path"
   ]
  },
  {
   "cell_type": "code",
   "execution_count": 46,
   "metadata": {},
   "outputs": [],
   "source": [
    "path_to_poppler_exe = Path(r\"C:\\Program Files\\poppler-23.08.0\\Library\\bin\")\n",
    "out_directory = Path(r\"F:\\DL Projects\\OpenCVProjects\\Translation\")"
   ]
  },
  {
   "cell_type": "code",
   "execution_count": 47,
   "metadata": {},
   "outputs": [],
   "source": [
    "pdf = Path(r\"F:\\DL Projects\\OpenCVProjects\\Translation\\sample_text\\Hitler.pdf\")"
   ]
  },
  {
   "cell_type": "code",
   "execution_count": 48,
   "metadata": {},
   "outputs": [],
   "source": [
    "text_file = out_directory / Path(\"Out_text.txt\")"
   ]
  },
  {
   "cell_type": "code",
   "execution_count": 49,
   "metadata": {},
   "outputs": [],
   "source": [
    "image_file_list = []"
   ]
  },
  {
   "cell_type": "code",
   "execution_count": 50,
   "metadata": {},
   "outputs": [
    {
     "name": "stdout",
     "output_type": "stream",
     "text": [
      "अडोल्फ हिटलर एक जर्मन राजनीतिज्ञ थे, जो 1933 से 1945 तक जर्मनी के राष्ट्रपति और डिक्टेटर के रूप में शासित किया गया था। वह राष्ट्रवादी जर्मन श्रमिक पार्टी (NSDAP) को नेतृत्व किया और इतिहास के सबसे भयानक दौर को - दूसरे विश्व युद्ध और हॉलोकाउस।\n",
      "\n",
      "हिटलर 1889 में ओस्ट्रिया-युग्रेन के ब्राउनौ अम इन में पैदा हुए। उन्होंने प्रारंभिक 1920 के दशक में NSDAP में शामिल हो गए और जल्द ही प्रभाव प्राप्त किया। 1923 में एक विफल क्रांति प्रयास के बाद उन्हें एक छोटे से जेल सज़ा मिली। इस समय में उन्होंने अपनी किताब \"मेरी कम्प्फ\" लिखी, जिसमें उनके रास्त्रवादी और ऐंटीसेमिटिक दृष्टिकोण व्यक्त किए गए।\n",
      "\n",
      "1933 में शासन ग्रस्त होने के बाद, हिटलर ने जर्मनी को एक टोटलिटेरियन देश में रूपांतरित करने शुरू कि\n",
      "['अडोल्फ', 'हिटलर', 'एक', 'जर्मन', 'राजनीतिज्ञ', 'थे,', 'जो', '1933', 'से', '1945', 'तक', 'जर्मनी', 'के', 'राष्ट्रपति', 'और', 'डिक्टेटर', 'के', 'रूप', 'में', 'शासित', 'किया', 'गया', 'था।', 'वह', 'राष्ट्रवादी', 'जर्मन', 'श्रमिक', 'पार्टी', '(NSDAP)', 'को', 'नेतृत्व', 'किया', 'और', 'इतिहास', 'के', 'सबसे', 'भयानक', 'दौर', 'को', '-', 'दूसरे', 'विश्व', 'युद्ध', 'और', 'हॉलोकाउस।', 'हिटलर', '1889', 'में', 'ओस्ट्रिया-युग्रेन', 'के', 'ब्राउनौ', 'अम', 'इन', 'में', 'पैदा', 'हुए।', 'उन्होंने', 'प्रारंभिक', '1920', 'के', 'दशक', 'में', 'NSDAP', 'में', 'शामिल', 'हो', 'गए', 'और', 'जल्द', 'ही', 'प्रभाव', 'प्राप्त', 'किया।', '1923', 'में', 'एक', 'विफल', 'क्रांति', 'प्रयास', 'के', 'बाद', 'उन्हें', 'एक', 'छोटे', 'से', 'जेल', 'सज़ा', 'मिली।', 'इस', 'समय', 'में', 'उन्होंने', 'अपनी', 'किताब', '\"मेरी', 'कम्प्फ\"', 'लिखी,', 'जिसमें', 'उनके', 'रास्त्रवादी', 'और', 'ऐंटीसेमिटिक', 'दृष्टिकोण', 'व्यक्त', 'किए', 'गए।', '1933', 'में', 'शासन', 'ग्रस्त', 'होने', 'के', 'बाद,', 'हिटलर', 'ने', 'जर्मनी', 'को', 'एक', 'टोटलिटेरियन', 'देश', 'में', 'रूपांतरित', 'करने', 'शुरू', 'कि']\n",
      "[['अडोल्फ', 'हिटलर', 'एक', 'जर्मन', 'राजनीतिज्ञ', 'थे,', 'जो', '1933'], ['से', '1945', 'तक', 'जर्मनी', 'के', 'राष्ट्रपति', 'और', 'डिक्टेटर'], ['के', 'रूप', 'में', 'शासित', 'किया', 'गया', 'था।', 'वह'], ['राष्ट्रवादी', 'जर्मन', 'श्रमिक', 'पार्टी', '(NSDAP)', 'को', 'नेतृत्व', 'किया'], ['और', 'इतिहास', 'के', 'सबसे', 'भयानक', 'दौर', 'को', '-'], ['दूसरे', 'विश्व', 'युद्ध', 'और', 'हॉलोकाउस।', 'हिटलर', '1889', 'में'], ['ओस्ट्रिया-युग्रेन', 'के', 'ब्राउनौ', 'अम', 'इन', 'में', 'पैदा', 'हुए।'], ['उन्होंने', 'प्रारंभिक', '1920', 'के', 'दशक', 'में', 'NSDAP', 'में'], ['शामिल', 'हो', 'गए', 'और', 'जल्द', 'ही', 'प्रभाव', 'प्राप्त'], ['किया।', '1923', 'में', 'एक', 'विफल', 'क्रांति', 'प्रयास', 'के'], ['बाद', 'उन्हें', 'एक', 'छोटे', 'से', 'जेल', 'सज़ा', 'मिली।'], ['इस', 'समय', 'में', 'उन्होंने', 'अपनी', 'किताब', '\"मेरी', 'कम्प्फ\"'], ['लिखी,', 'जिसमें', 'उनके', 'रास्त्रवादी', 'और', 'ऐंटीसेमिटिक', 'दृष्टिकोण', 'व्यक्त'], ['किए', 'गए।', '1933', 'में', 'शासन', 'ग्रस्त', 'होने', 'के'], ['बाद,', 'हिटलर', 'ने', 'जर्मनी', 'को', 'एक', 'टोटलिटेरियन', 'देश'], ['में', 'रूपांतरित', 'करने', 'शुरू', 'कि']]\n"
     ]
    }
   ],
   "source": [
    "def main():\n",
    "\n",
    "    with TemporaryDirectory() as tempdir:\n",
    "        # Create a temporary directory to hold our temporary images\n",
    " \n",
    "        if platform.system() == \"Windows\":\n",
    "            pdf_pages = convert_from_path(\n",
    "                pdf, 500, poppler_path=path_to_poppler_exe  ## Read in the PDF file at 500 DPI\n",
    "            )\n",
    "\n",
    "        else:\n",
    "            pdf_pages = convert_from_path(pdf, 500)\n",
    "        \n",
    " \n",
    "        # Iterate through all the pages stored above\n",
    "        for page_enumeration, page in enumerate(pdf_pages, start=1):\n",
    "            # enumerate() \"counts\" the pages for us.\n",
    " \n",
    "            # Create a file name to store the image\n",
    "            filename = f\"{tempdir}\\page_{page_enumeration:03}.jpg\"\n",
    " \n",
    "            # Declaring filename for each page of PDF as JPG\n",
    "            # For each page, filename will be:\n",
    "            # PDF page 1 -> page_001.jpg\n",
    "            # PDF page 2 -> page_002.jpg\n",
    "            # ....\n",
    "            \n",
    " \n",
    "            # Save the image of the page in system\n",
    "            page.save(filename, \"JPEG\")\n",
    "            image_file_list.append(filename)\n",
    " \n",
    "        \n",
    "        #Recognizing text from the images using OCR\n",
    "        \n",
    " \n",
    "        with open(text_file, \"a\", encoding = 'utf-8') as output_file:\n",
    "            # Open the file in append mode so that\n",
    "            # All contents of all images are added to the same file\n",
    " \n",
    "            # Iterate from 1 to total number of pages\n",
    "            for image_file in image_file_list:\n",
    "\n",
    "                # Recognize the text as string in image using pytesserct\n",
    "                text = str(((pytesseract.image_to_string(Image.open(image_file)))))\n",
    "                target_lan = input(\"Enter the target language:\")\n",
    "                translated_text = translate_text(text, target_lan)\n",
    "                \n",
    "                #processing the translated text\n",
    "                translated_text = translated_text.replace(\"-\\n\", \"\")\n",
    "                print(translated_text)\n",
    "\n",
    "                words = translated_text.split()\n",
    "                print(words)\n",
    "                words_per_line = 8\n",
    "                lines = [words[i:i+words_per_line] for i in range(0, len(words), words_per_line)]\n",
    "                print(lines)\n",
    "                for line in lines:\n",
    "                    line_text = ' '.join(line)  # Join words to form a line\n",
    "\n",
    "                    # Finally, write the processed text to the file.\n",
    "                    output_file.write(line_text + '\\n')\n",
    "\n",
    "            \n",
    "            # the file is closed after writing all the text.\n",
    "            # At the end of the with .. tempdir block, the\n",
    "            # TemporaryDirectory() we're using gets removed!       \n",
    "   \n",
    "     \n",
    "if __name__ == \"__main__\":\n",
    "      \n",
    "    main()"
   ]
  }
 ],
 "metadata": {
  "kernelspec": {
   "display_name": "Python 3",
   "language": "python",
   "name": "python3"
  },
  "language_info": {
   "codemirror_mode": {
    "name": "ipython",
    "version": 3
   },
   "file_extension": ".py",
   "mimetype": "text/x-python",
   "name": "python",
   "nbconvert_exporter": "python",
   "pygments_lexer": "ipython3",
   "version": "3.11.2"
  },
  "orig_nbformat": 4
 },
 "nbformat": 4,
 "nbformat_minor": 2
}
